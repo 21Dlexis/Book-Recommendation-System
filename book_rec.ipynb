{
 "cells": [
  {
   "cell_type": "code",
   "execution_count": 2,
   "id": "bcd329b4-8011-47aa-9a3b-abf071679fed",
   "metadata": {},
   "outputs": [
    {
     "data": {
      "text/plain": [
       "'1.2.4'"
      ]
     },
     "execution_count": 2,
     "metadata": {},
     "output_type": "execute_result"
    }
   ],
   "source": [
    "import pandas\n",
    "pandas.__version__"
   ]
  },
  {
   "cell_type": "code",
   "execution_count": 20,
   "id": "623a3f24-bdf6-4298-99a7-954702b1b7e4",
   "metadata": {},
   "outputs": [
    {
     "name": "stdout",
     "output_type": "stream",
     "text": [
      "1.Random Book\n",
      "2.Books Above a certain rating\n",
      "3.Search for books within a certain range\n",
      "4.Author Search\n",
      "5.Top 5 author\n"
     ]
    },
    {
     "name": "stdin",
     "output_type": "stream",
     "text": [
      "enter to search  5\n"
     ]
    },
    {
     "data": {
      "image/png": "[encoded data removed]",
      "text/plain": [
       "<Figure size 432x288 with 1 Axes>"
      ]
     },
     "metadata": {
      "needs_background": "light"
     },
     "output_type": "display_data"
    }
   ],
   "source": [
    "# Importing libraries\n",
    "import pandas as pd\n",
    "from fuzzywuzzy import process, fuzz\n",
    "def recommendation():\n",
    "    \n",
    "    # Read csv file into a pandas dataframe\n",
    "    df = pd.read_csv(\"books.csv\")\n",
    "    df = df[df.language_code =='eng']\n",
    "    df['Title'] = df['title'].str.split('(').str[0]\n",
    "    print(\"1.Random Book\\n2.Books Above a certain rating\\n3.Search for books within a certain range\\n4.Author Search\\n5.Top 5 author\")\n",
    "    search= input(\"enter to search \")\n",
    "    if search==\"1\":\n",
    "        df_new= df.sample(replace=True)[['Title', 'authors',\"rating\"]]\n",
    "        print(\"Title: \", df_new[['Title']].to_string(index=False, header=False))\n",
    "        print(\"Author: \", df_new[['authors']].to_string(index=False, header=False))\n",
    "        print(\"Rating: \", df_new[['rating']].to_string(index=False, header=False))\n",
    "        return \"Enjoy!\" \n",
    "    elif search==\"2\":\n",
    "            print(\"Enter rating between 1 and 5: \")\n",
    "            rate= float(input(\"enter rating \"))\n",
    "            if rate < 0 or rate > 5:\n",
    "                print(\"Error: Enter rating between 0 and 5\")\n",
    "                return \"Please Correct\"\n",
    "            else:\n",
    "                df_rate = df[df['rating'].astype(float) >= rate]\n",
    "                df_new= df_rate.sample(replace=True)[['Title', 'authors',\"rating\"]]\n",
    "                print(\"Title: \", df_new[['Title']].to_string(index=False, header=False))\n",
    "                print(\"Author: \", df_new[['authors']].to_string(index=False, header=False))\n",
    "                print(\"Rating: \", df_new[['rating']].to_string(index=False, header=False))\n",
    "                return \"Enjoy!\"\n",
    "    elif search==\"3\":\n",
    "            print(\"Enter rating range between 1 and 5: \")\n",
    "            llimit= float(input(\"enter lower limit \"))\n",
    "            if llimit<1 or llimit>5:\n",
    "                llimit=1\n",
    "                ulimit= float(input(\"enter upper limit\"))\n",
    "            if ulimit>5 or ulimit<llimit:\n",
    "                ulimit=5\n",
    "            df_rate = df[(df['rating'].astype(float) >= llimit) & (df['rating'].astype(float) <= ulimit) ]\n",
    "            df_new= df_rate.sample(replace=True)[['title', 'authors',\"rating\"]]\n",
    "            print(\"Title: \", df_new[['title']].to_string(index=False, header=False))\n",
    "            print(\"Author: \", df_new[['authors']].to_string(index=False, header=False))\n",
    "            print(\"Rating: \", df_new[['rating']].to_string(index=False, header=False))\n",
    "            return \"Enjoy!\"\n",
    "    elif search==\"4\":\n",
    "            print(\"Enter author name:\")\n",
    "            search1=input()\n",
    "            #Retrieve Author Name\n",
    "            search1 = search1.split()\n",
    "            author = search1[1:]\n",
    "            author = \" \".join(author)\n",
    "            print(f\"Entered Author: {author}\")\n",
    "\n",
    "            #Make Nested list with authors and subauthors to pass in fuzzywuzzy\n",
    "            unique_authors = df['authors'].unique().tolist()\n",
    "            for i in range(len(unique_authors)):\n",
    "                subauthors = unique_authors[i].split('/')\n",
    "                unique_authors[i] = subauthors\n",
    "            #print(len(unique_authors))\n",
    "\n",
    "            #Find Exact author names that fuzzily match user input \n",
    "            finds=[]\n",
    "            for i in unique_authors:\n",
    "                l = process.extract(author, i, scorer=fuzz.token_sort_ratio)\n",
    "                for j in l:\n",
    "                    if j[1] > 70 : #change value for stricter or more general results\n",
    "                        finds.append(i)          \n",
    "            finds = [\"/\".join(l) for l in finds]            \n",
    "            print(f\"Authors found: {finds}\")\n",
    "\n",
    "            authors = tuple(df['authors'])\n",
    "            for ix in range(len(authors)):\n",
    "                if authors[ix] in finds:\n",
    "                    df_new = df.iloc[[ix]]\n",
    "                    print()\n",
    "                    print(\"Title: \", df_new[['Title']].to_string(index=False, header=False))\n",
    "                    print(\"Author: \", df_new[['authors']].to_string(index=False, header=False))\n",
    "                    print(\"Rating: \", df_new[['rating']].to_string(index=False, header=False))\n",
    "    elif search==\"5\":\n",
    "\n",
    "            df = clean_data()\n",
    "            plot_top5_highest_avg(df)\n",
    "\n",
    "def clean_data():\n",
    "                df = pd.read_csv(\"books.csv\", index_col=\"bookID\")\n",
    "                df.drop([12224, 16914, 22128, 34889], inplace = True, axis=0)\n",
    "                df['rating'] = df['rating'].astype('float64')\n",
    "                df.rename(columns={'  num_pages': 'num_pages'}, inplace=True)\n",
    "                df['num_pages'] = df['num_pages'].astype('int')\n",
    "                df = df.dropna(axis=1,how='all')\n",
    "                return df\n",
    "def plot_top5_highest_avg(df:pd.DataFrame):\n",
    "                author_count_num = df.groupby(['authors'], as_index=False).agg({'rating':'mean'})\n",
    "                df_new = author_count_num.sort_values(by=['rating'], ascending=False)\n",
    "                df_new.head(5).plot(x='authors', y='rating',kind='bar')\n",
    "                \n",
    "recommendation()"
   ]
  },
  {
   "cell_type": "code",
   "execution_count": null,
   "id": "fba34d06-6b08-4179-9563-a685c12dda85",
   "metadata": {},
   "outputs": [],
   "source": []
  }
 ],
 "metadata": {
  "kernelspec": {
   "display_name": "Python 3",
   "language": "python",
   "name": "python3"
  },
  "language_info": {
   "codemirror_mode": {
    "name": "ipython",
    "version": 3
   },
   "file_extension": ".py",
   "mimetype": "text/x-python",
   "name": "python",
   "nbconvert_exporter": "python",
   "pygments_lexer": "ipython3",
   "version": "3.8.8"
  }
 },
 "nbformat": 4,
 "nbformat_minor": 5
}
